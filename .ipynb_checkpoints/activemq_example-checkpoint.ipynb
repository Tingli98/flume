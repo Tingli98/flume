{
 "cells": [
  {
   "cell_type": "code",
   "execution_count": 41,
   "metadata": {},
   "outputs": [],
   "source": [
    "import time\n",
    "import sys\n",
    "import stomp"
   ]
  },
  {
   "cell_type": "code",
   "execution_count": 50,
   "metadata": {},
   "outputs": [],
   "source": [
    "class MyListener(stomp.ConnectionListener):\n",
    "    def on_error(self, headers, message):\n",
    "        print('received an error \"%s\"' % message)\n",
    "        \n",
    "    def on_message(self, headers, message):\n",
    "        print('received a message \"%s\"' % message)\n",
    "        print(message)\n"
   ]
  },
  {
   "cell_type": "code",
   "execution_count": 51,
   "metadata": {},
   "outputs": [
    {
     "name": "stdout",
     "output_type": "stream",
     "text": [
      "received a message \"H e l l o ,   w o r l d !\"\n",
      "H e l l o ,   w o r l d !\n",
      "disconnected!\n"
     ]
    }
   ],
   "source": [
    "conn = stomp.Connection()\n",
    "conn.set_listener('', MyListener())\n",
    "conn.connect('admin', 'admin', wait=True)\n",
    "conn.subscribe(destination='/queue/test', id=1, ack='auto')\n",
    "conn.send(body=' '.join('Hello, world!'), destination='/queue/test')\n",
    "time.sleep(2)\n",
    "conn.disconnect()\n",
    "print('disconnected!')"
   ]
  },
  {
   "cell_type": "code",
   "execution_count": 59,
   "metadata": {},
   "outputs": [
    {
     "name": "stdout",
     "output_type": "stream",
     "text": [
      "received a message \"Greetings from Virginia!\"\n",
      "Greetings from Virginia!\n"
     ]
    }
   ],
   "source": [
    "rcvr = stomp.Connection()\n",
    "rcvr.set_listener('', MyListener())\n",
    "rcvr.connect('admin', 'admin', wait=True)\n",
    "rcvr.subscribe(destination='/queue/foo.bar', id=1, ack='auto')\n"
   ]
  },
  {
   "cell_type": "code",
   "execution_count": 60,
   "metadata": {},
   "outputs": [],
   "source": [
    "rcvr.disconnect()"
   ]
  },
  {
   "cell_type": "code",
   "execution_count": null,
   "metadata": {},
   "outputs": [],
   "source": []
  }
 ],
 "metadata": {
  "kernelspec": {
   "display_name": "Python 3",
   "language": "python",
   "name": "python3"
  },
  "language_info": {
   "codemirror_mode": {
    "name": "ipython",
    "version": 3
   },
   "file_extension": ".py",
   "mimetype": "text/x-python",
   "name": "python",
   "nbconvert_exporter": "python",
   "pygments_lexer": "ipython3",
   "version": "3.6.9"
  }
 },
 "nbformat": 4,
 "nbformat_minor": 2
}
